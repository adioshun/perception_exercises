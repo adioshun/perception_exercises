{
 "cells": [
  {
   "cell_type": "markdown",
   "metadata": {},
   "source": [
    "# Load Point Cloud file"
   ]
  },
  {
   "cell_type": "code",
   "execution_count": 39,
   "metadata": {},
   "outputs": [],
   "source": [
    "# Import PCL module\n",
    "import pcl\n",
    "\n",
    "# Load Point Cloud file\n",
    "cloud = pcl.load_XYZRGB('./Exercise-1/tabletop.pcd')"
   ]
  },
  {
   "cell_type": "markdown",
   "metadata": {},
   "source": [
    "# Voxel Grid filter"
   ]
  },
  {
   "cell_type": "code",
   "execution_count": 40,
   "metadata": {
    "collapsed": true
   },
   "outputs": [],
   "source": [
    "# Create a VoxelGrid filter object for our input point cloud\n",
    "vox = cloud.make_voxel_grid_filter()\n",
    "\n",
    "# Choose a voxel (also known as leaf) size\n",
    "# Note: this (1) is a poor choice of leaf size   \n",
    "# Experiment and find the appropriate size!\n",
    "LEAF_SIZE = 0.01   \n",
    "\n",
    "# Set the voxel (or leaf) size  \n",
    "vox.set_leaf_size(LEAF_SIZE, LEAF_SIZE, LEAF_SIZE)\n",
    "\n",
    "# Call the filter function to obtain the resultant downsampled point cloud\n",
    "cloud_filtered = vox.filter()\n",
    "filename = '1_voxel_downsampled.pcd'\n",
    "pcl.save(cloud_filtered, filename)"
   ]
  },
  {
   "cell_type": "markdown",
   "metadata": {},
   "source": [
    "# PassThrough filter"
   ]
  },
  {
   "cell_type": "code",
   "execution_count": 41,
   "metadata": {
    "collapsed": true
   },
   "outputs": [],
   "source": [
    "# Create a PassThrough filter object.\n",
    "passthrough = cloud_filtered.make_passthrough_filter()\n",
    "\n",
    "# Assign axis and range to the passthrough filter object.\n",
    "filter_axis = 'z'\n",
    "passthrough.set_filter_field_name(filter_axis)\n",
    "axis_min = 0.6\n",
    "axis_max = 1.1\n",
    "passthrough.set_filter_limits(axis_min, axis_max)\n",
    "\n",
    "# Finally use the filter function to obtain the resultant point cloud. \n",
    "cloud_filtered = passthrough.filter()\n",
    "filename = '2_pass_through_filtered.pcd'\n",
    "pcl.save(cloud_filtered, filename)"
   ]
  },
  {
   "cell_type": "markdown",
   "metadata": {},
   "source": [
    "# RANSAC plane segmentation"
   ]
  },
  {
   "cell_type": "code",
   "execution_count": 42,
   "metadata": {
    "collapsed": true
   },
   "outputs": [],
   "source": [
    "# Create the segmentation object\n",
    "seg = cloud_filtered.make_segmenter()\n",
    "\n",
    "# Set the model you wish to fit \n",
    "seg.set_model_type(pcl.SACMODEL_PLANE)\n",
    "seg.set_method_type(pcl.SAC_RANSAC)\n",
    "\n",
    "# Max distance for a point to be considered fitting the model\n",
    "# Experiment with different values for max_distance \n",
    "# for segmenting the table\n",
    "max_distance = 0.01\n",
    "seg.set_distance_threshold(max_distance)\n",
    "\n",
    "# Call the segment function to obtain set of inlier indices and model coefficients\n",
    "inliers, coefficients = seg.segment()"
   ]
  },
  {
   "cell_type": "markdown",
   "metadata": {},
   "source": [
    "# Extract Indices"
   ]
  },
  {
   "cell_type": "code",
   "execution_count": 45,
   "metadata": {
    "collapsed": true
   },
   "outputs": [],
   "source": [
    "# Extract inliers\n",
    "# extracted_inliers = cloud_filtered.extract(inliers, negative=False)\n",
    "#filename = '3_extracted_inliers.pcd'\n",
    "# Extract outliers\n",
    "extracted_inliers = cloud_filtered.extract(inliers, negative=True)\n",
    "filename = '3_extracted_outliers.pcd'\n",
    "pcl.save(extracted_inliers, filename)"
   ]
  },
  {
   "cell_type": "markdown",
   "metadata": {},
   "source": [
    "# Remove Outlier"
   ]
  },
  {
   "cell_type": "code",
   "execution_count": 47,
   "metadata": {
    "collapsed": true
   },
   "outputs": [],
   "source": [
    "# Much like the previous filters, we start by creating a filter object: \n",
    "outlier_filter = cloud_filtered.make_statistical_outlier_filter()\n",
    "\n",
    "# Set the number of neighboring points to analyze for any given point\n",
    "outlier_filter.set_mean_k(50)\n",
    "\n",
    "# Set threshold scale factor\n",
    "x = 1.0\n",
    "\n",
    "# Any point with a mean distance larger than global (mean distance+x*std_dev) will be considered outlier\n",
    "outlier_filter.set_std_dev_mul_thresh(x)\n",
    "\n",
    "# Finally call the filter function for magic\n",
    "cloud_filtered = outlier_filter.filter()"
   ]
  },
  {
   "cell_type": "code",
   "execution_count": null,
   "metadata": {
    "collapsed": true
   },
   "outputs": [],
   "source": []
  }
 ],
 "metadata": {
  "kernelspec": {
   "display_name": "Python 2",
   "language": "python",
   "name": "python2"
  },
  "language_info": {
   "codemirror_mode": {
    "name": "ipython",
    "version": 2
   },
   "file_extension": ".py",
   "mimetype": "text/x-python",
   "name": "python",
   "nbconvert_exporter": "python",
   "pygments_lexer": "ipython2",
   "version": "2.7.12"
  }
 },
 "nbformat": 4,
 "nbformat_minor": 2
}
